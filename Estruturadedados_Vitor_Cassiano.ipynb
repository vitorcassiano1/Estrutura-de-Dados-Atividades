{
  "nbformat": 4,
  "nbformat_minor": 0,
  "metadata": {
    "colab": {
      "provenance": [],
      "authorship_tag": "ABX9TyOYEpqVxPyZOkippIx5FY5t",
      "include_colab_link": true
    },
    "kernelspec": {
      "name": "python3",
      "display_name": "Python 3"
    },
    "language_info": {
      "name": "python"
    }
  },
  "cells": [
    {
      "cell_type": "markdown",
      "metadata": {
        "id": "view-in-github",
        "colab_type": "text"
      },
      "source": [
        "<a href=\"https://colab.research.google.com/github/vitorcassiano1/Estrutura-de-Dados-Atividades/blob/main/Estruturadedados_Vitor_Cassiano.ipynb\" target=\"_parent\"><img src=\"https://colab.research.google.com/assets/colab-badge.svg\" alt=\"Open In Colab\"/></a>"
      ]
    },
    {
      "cell_type": "markdown",
      "source": [
        "1) Crie um vetor de inteiros ( int ) de 10 posições. Preencha-o\n",
        "com os valores 10 , 20 , 30 , 40 , 50 , 60 , 70 , 80 , 90 e\n",
        "100 . Use um for para exibir os valores deste vetor"
      ],
      "metadata": {
        "id": "-7RACl_Srz3L"
      }
    },
    {
      "cell_type": "code",
      "source": [
        "vetor = [10, 20, 30, 40, 50, 60, 70, 80, 90, 100]\n",
        "\n",
        "for i in vetor:\n",
        "  print(i)"
      ],
      "metadata": {
        "id": "nlTKVr92rx41"
      },
      "execution_count": null,
      "outputs": []
    },
    {
      "cell_type": "markdown",
      "source": [
        "2) Crie uma matriz de caracteres ( char ) de 16 posições (4x4).\n",
        "Preencha-a com os valores a , b , c , d , e , f , g , h , i , j ,\n",
        "k , l , m , n , o e p . Use dois for para exibir os valores desta\n",
        "matriz."
      ],
      "metadata": {
        "id": "t4yjQklUry8r"
      }
    },
    {
      "cell_type": "code",
      "source": [
        "\n",
        "matriz = [\n",
        "    ['a', 'b', 'c', 'd'],\n",
        "    ['e', 'f', 'g', 'h'],\n",
        "    ['i', 'j', 'k', 'l'],\n",
        "    ['m', 'n', 'o', 'p']\n",
        "]\n",
        "\n",
        "\n",
        "print(\"Matriz 4x4 de caracteres:\")\n",
        "for i in range(4):\n",
        "    for j in range(4):\n",
        "        print(matriz[i][j], end=' ')\n",
        "    print()\n"
      ],
      "metadata": {
        "id": "kPKvIEb3rx2T"
      },
      "execution_count": null,
      "outputs": []
    },
    {
      "cell_type": "markdown",
      "source": [
        "3) Faça um programa com um vetor com 10 elementos inteiros\n",
        "positivos (aleatórios e de sua escolha). Permita que seja solicitado\n",
        "um determinado valor inteiro e positivo para ser procurado neste\n",
        "vetor. Caso exista, o programa deve exibir o índice no qual o valor\n",
        "está posicionado. Caso contrário, o programa deve informar que o\n",
        "elemento não existe no vetor"
      ],
      "metadata": {
        "id": "MvG9s0d-r0M8"
      }
    },
    {
      "cell_type": "code",
      "source": [
        "\n",
        "vetor = [1, 2, 3, 4, 5, 6, 7, 8, 9, 10]\n",
        "\n",
        "numero = int(input(\"Digite um número inteiro positivo: \"))\n",
        "\n",
        "\n",
        "if numero in vetor:\n",
        "    indice = vetor.index(numero)\n",
        "    print(f\"O índice do número {numero} no vetor é: {indice}\")\n",
        "else:\n",
        "    print(\"Número não encontrado no vetor.\")\n"
      ],
      "metadata": {
        "id": "1-MCakVzrx0J"
      },
      "execution_count": null,
      "outputs": []
    },
    {
      "cell_type": "markdown",
      "source": [
        "4) Faça um programa com uma matriz com 9 elementos (3x3)\n",
        "reais positivos (aleatórios e de sua escolha). Calcule e exiba a soma\n",
        "dos elementos de cada linha desta matriz"
      ],
      "metadata": {
        "id": "VTdg-Dj8r1W6"
      }
    },
    {
      "cell_type": "code",
      "source": [
        "matriz = [1, 2, 3, 4, 5, 6, 7, 8, 9]\n",
        "matriz = [matriz[i:i+3] for i in range(0, 9, 3)]\n",
        "\n",
        "print(\"Matriz 3x3 de reais:\")\n",
        "for linha in matriz:\n",
        "    print(linha)\n",
        "\n",
        "print(\"Soma dos elementos de cada linha:\")\n",
        "for linha in matriz:\n",
        "    soma_linha = sum(linha)\n",
        "    print(soma_linha)"
      ],
      "metadata": {
        "id": "xwknbntNrxo1"
      },
      "execution_count": null,
      "outputs": []
    },
    {
      "cell_type": "markdown",
      "source": [
        "5) Faça um programa com uma matriz 5x5 de inteiros\n",
        "positivos ou negativos (aleatórios e de sua escolha) e encontre e\n",
        "exiba o maior elemento desta matriz.\n"
      ],
      "metadata": {
        "id": "yDYeab9_sV0K"
      }
    },
    {
      "cell_type": "code",
      "source": [
        "\n",
        "matriz = [\n",
        "    [3, -1, 4, 1, 5],\n",
        "    [9, 2, -6, 5, 3],\n",
        "    [5, 0, 7, -4, 2],\n",
        "    [-1, 8, 6, 3, 0],\n",
        "    [2, -3, 1, 4, 7]\n",
        "]\n",
        "\n",
        "\n",
        "print(\"Matriz 5x5:\")\n",
        "for linha in matriz:\n",
        "    print(linha)\n",
        "\n",
        "\n",
        "maior_elemento = float('-inf')\n",
        "\n",
        "\n",
        "for linha in matriz:\n",
        "    for elemento in linha:\n",
        "        if elemento > maior_elemento:\n",
        "            maior_elemento = elemento\n",
        "\n",
        "\n",
        "print(\"O maior elemento da matriz é:\", maior_elemento)"
      ],
      "metadata": {
        "id": "0BEDXjhJrxik"
      },
      "execution_count": null,
      "outputs": []
    },
    {
      "cell_type": "markdown",
      "source": [
        "DEVER HELIPONTO"
      ],
      "metadata": {
        "id": "trtrXzmsrHfT"
      }
    },
    {
      "cell_type": "code",
      "source": [
        "import pandas as pd\n",
        "\n",
        "helipontos = [\n",
        "    'Heliponto - Autódromo Internacional de Brasília',\n",
        "    'Heliponto Parque Cidade',\n",
        "    'Heliponto - HFA',\n",
        "\n",
        "]\n",
        "\n",
        "localizacao = [\n",
        "    'SRPN Trecho 1 - Brasília, DF, 70655-775',\n",
        "    'SCS Q. 6 BL A - Asa Sul, Brasília - DF, 70740-610',\n",
        "    'St. Sudoeste - Cruzeiro / Sudoeste / Octogonal, Brasília - DF, 70655-775',\n",
        "]\n",
        "\n",
        "dados_helipontos = {\n",
        "    'Nome': helipontos,\n",
        "    'localizacao': localizacao,\n",
        "}\n",
        "\n",
        "helipontos_df = pd.DataFrame(dados_helipontos)\n",
        "\n",
        "display(helipontos_df)\n",
        "\n"
      ],
      "metadata": {
        "id": "r_A__s05qc1k",
        "colab": {
          "base_uri": "https://localhost:8080/",
          "height": 143
        },
        "outputId": "1a07bc11-692f-4e31-8ba7-bac8cca2b24f"
      },
      "execution_count": null,
      "outputs": [
        {
          "output_type": "display_data",
          "data": {
            "text/plain": [
              "                                              Nome  \\\n",
              "0  Heliponto - Autódromo Internacional de Brasília   \n",
              "1                          Heliponto Parque Cidade   \n",
              "2                                  Heliponto - HFA   \n",
              "\n",
              "                                         localizacao  \n",
              "0            SRPN Trecho 1 - Brasília, DF, 70655-775  \n",
              "1  SCS Q. 6 BL A - Asa Sul, Brasília - DF, 70740-610  \n",
              "2  St. Sudoeste - Cruzeiro / Sudoeste / Octogonal...  "
            ],
            "text/html": [
              "\n",
              "  <div id=\"df-6a3f3c7c-cd16-4952-8fac-ee2a5e15cd11\" class=\"colab-df-container\">\n",
              "    <div>\n",
              "<style scoped>\n",
              "    .dataframe tbody tr th:only-of-type {\n",
              "        vertical-align: middle;\n",
              "    }\n",
              "\n",
              "    .dataframe tbody tr th {\n",
              "        vertical-align: top;\n",
              "    }\n",
              "\n",
              "    .dataframe thead th {\n",
              "        text-align: right;\n",
              "    }\n",
              "</style>\n",
              "<table border=\"1\" class=\"dataframe\">\n",
              "  <thead>\n",
              "    <tr style=\"text-align: right;\">\n",
              "      <th></th>\n",
              "      <th>Nome</th>\n",
              "      <th>localizacao</th>\n",
              "    </tr>\n",
              "  </thead>\n",
              "  <tbody>\n",
              "    <tr>\n",
              "      <th>0</th>\n",
              "      <td>Heliponto - Autódromo Internacional de Brasília</td>\n",
              "      <td>SRPN Trecho 1 - Brasília, DF, 70655-775</td>\n",
              "    </tr>\n",
              "    <tr>\n",
              "      <th>1</th>\n",
              "      <td>Heliponto Parque Cidade</td>\n",
              "      <td>SCS Q. 6 BL A - Asa Sul, Brasília - DF, 70740-610</td>\n",
              "    </tr>\n",
              "    <tr>\n",
              "      <th>2</th>\n",
              "      <td>Heliponto - HFA</td>\n",
              "      <td>St. Sudoeste - Cruzeiro / Sudoeste / Octogonal...</td>\n",
              "    </tr>\n",
              "  </tbody>\n",
              "</table>\n",
              "</div>\n",
              "    <div class=\"colab-df-buttons\">\n",
              "\n",
              "  <div class=\"colab-df-container\">\n",
              "    <button class=\"colab-df-convert\" onclick=\"convertToInteractive('df-6a3f3c7c-cd16-4952-8fac-ee2a5e15cd11')\"\n",
              "            title=\"Convert this dataframe to an interactive table.\"\n",
              "            style=\"display:none;\">\n",
              "\n",
              "  <svg xmlns=\"http://www.w3.org/2000/svg\" height=\"24px\" viewBox=\"0 -960 960 960\">\n",
              "    <path d=\"M120-120v-720h720v720H120Zm60-500h600v-160H180v160Zm220 220h160v-160H400v160Zm0 220h160v-160H400v160ZM180-400h160v-160H180v160Zm440 0h160v-160H620v160ZM180-180h160v-160H180v160Zm440 0h160v-160H620v160Z\"/>\n",
              "  </svg>\n",
              "    </button>\n",
              "\n",
              "  <style>\n",
              "    .colab-df-container {\n",
              "      display:flex;\n",
              "      gap: 12px;\n",
              "    }\n",
              "\n",
              "    .colab-df-convert {\n",
              "      background-color: #E8F0FE;\n",
              "      border: none;\n",
              "      border-radius: 50%;\n",
              "      cursor: pointer;\n",
              "      display: none;\n",
              "      fill: #1967D2;\n",
              "      height: 32px;\n",
              "      padding: 0 0 0 0;\n",
              "      width: 32px;\n",
              "    }\n",
              "\n",
              "    .colab-df-convert:hover {\n",
              "      background-color: #E2EBFA;\n",
              "      box-shadow: 0px 1px 2px rgba(60, 64, 67, 0.3), 0px 1px 3px 1px rgba(60, 64, 67, 0.15);\n",
              "      fill: #174EA6;\n",
              "    }\n",
              "\n",
              "    .colab-df-buttons div {\n",
              "      margin-bottom: 4px;\n",
              "    }\n",
              "\n",
              "    [theme=dark] .colab-df-convert {\n",
              "      background-color: #3B4455;\n",
              "      fill: #D2E3FC;\n",
              "    }\n",
              "\n",
              "    [theme=dark] .colab-df-convert:hover {\n",
              "      background-color: #434B5C;\n",
              "      box-shadow: 0px 1px 3px 1px rgba(0, 0, 0, 0.15);\n",
              "      filter: drop-shadow(0px 1px 2px rgba(0, 0, 0, 0.3));\n",
              "      fill: #FFFFFF;\n",
              "    }\n",
              "  </style>\n",
              "\n",
              "    <script>\n",
              "      const buttonEl =\n",
              "        document.querySelector('#df-6a3f3c7c-cd16-4952-8fac-ee2a5e15cd11 button.colab-df-convert');\n",
              "      buttonEl.style.display =\n",
              "        google.colab.kernel.accessAllowed ? 'block' : 'none';\n",
              "\n",
              "      async function convertToInteractive(key) {\n",
              "        const element = document.querySelector('#df-6a3f3c7c-cd16-4952-8fac-ee2a5e15cd11');\n",
              "        const dataTable =\n",
              "          await google.colab.kernel.invokeFunction('convertToInteractive',\n",
              "                                                    [key], {});\n",
              "        if (!dataTable) return;\n",
              "\n",
              "        const docLinkHtml = 'Like what you see? Visit the ' +\n",
              "          '<a target=\"_blank\" href=https://colab.research.google.com/notebooks/data_table.ipynb>data table notebook</a>'\n",
              "          + ' to learn more about interactive tables.';\n",
              "        element.innerHTML = '';\n",
              "        dataTable['output_type'] = 'display_data';\n",
              "        await google.colab.output.renderOutput(dataTable, element);\n",
              "        const docLink = document.createElement('div');\n",
              "        docLink.innerHTML = docLinkHtml;\n",
              "        element.appendChild(docLink);\n",
              "      }\n",
              "    </script>\n",
              "  </div>\n",
              "\n",
              "\n",
              "    <div id=\"df-16bd117a-9f66-4f4e-9912-b1784c3b266e\">\n",
              "      <button class=\"colab-df-quickchart\" onclick=\"quickchart('df-16bd117a-9f66-4f4e-9912-b1784c3b266e')\"\n",
              "                title=\"Suggest charts\"\n",
              "                style=\"display:none;\">\n",
              "\n",
              "<svg xmlns=\"http://www.w3.org/2000/svg\" height=\"24px\"viewBox=\"0 0 24 24\"\n",
              "     width=\"24px\">\n",
              "    <g>\n",
              "        <path d=\"M19 3H5c-1.1 0-2 .9-2 2v14c0 1.1.9 2 2 2h14c1.1 0 2-.9 2-2V5c0-1.1-.9-2-2-2zM9 17H7v-7h2v7zm4 0h-2V7h2v10zm4 0h-2v-4h2v4z\"/>\n",
              "    </g>\n",
              "</svg>\n",
              "      </button>\n",
              "\n",
              "<style>\n",
              "  .colab-df-quickchart {\n",
              "      --bg-color: #E8F0FE;\n",
              "      --fill-color: #1967D2;\n",
              "      --hover-bg-color: #E2EBFA;\n",
              "      --hover-fill-color: #174EA6;\n",
              "      --disabled-fill-color: #AAA;\n",
              "      --disabled-bg-color: #DDD;\n",
              "  }\n",
              "\n",
              "  [theme=dark] .colab-df-quickchart {\n",
              "      --bg-color: #3B4455;\n",
              "      --fill-color: #D2E3FC;\n",
              "      --hover-bg-color: #434B5C;\n",
              "      --hover-fill-color: #FFFFFF;\n",
              "      --disabled-bg-color: #3B4455;\n",
              "      --disabled-fill-color: #666;\n",
              "  }\n",
              "\n",
              "  .colab-df-quickchart {\n",
              "    background-color: var(--bg-color);\n",
              "    border: none;\n",
              "    border-radius: 50%;\n",
              "    cursor: pointer;\n",
              "    display: none;\n",
              "    fill: var(--fill-color);\n",
              "    height: 32px;\n",
              "    padding: 0;\n",
              "    width: 32px;\n",
              "  }\n",
              "\n",
              "  .colab-df-quickchart:hover {\n",
              "    background-color: var(--hover-bg-color);\n",
              "    box-shadow: 0 1px 2px rgba(60, 64, 67, 0.3), 0 1px 3px 1px rgba(60, 64, 67, 0.15);\n",
              "    fill: var(--button-hover-fill-color);\n",
              "  }\n",
              "\n",
              "  .colab-df-quickchart-complete:disabled,\n",
              "  .colab-df-quickchart-complete:disabled:hover {\n",
              "    background-color: var(--disabled-bg-color);\n",
              "    fill: var(--disabled-fill-color);\n",
              "    box-shadow: none;\n",
              "  }\n",
              "\n",
              "  .colab-df-spinner {\n",
              "    border: 2px solid var(--fill-color);\n",
              "    border-color: transparent;\n",
              "    border-bottom-color: var(--fill-color);\n",
              "    animation:\n",
              "      spin 1s steps(1) infinite;\n",
              "  }\n",
              "\n",
              "  @keyframes spin {\n",
              "    0% {\n",
              "      border-color: transparent;\n",
              "      border-bottom-color: var(--fill-color);\n",
              "      border-left-color: var(--fill-color);\n",
              "    }\n",
              "    20% {\n",
              "      border-color: transparent;\n",
              "      border-left-color: var(--fill-color);\n",
              "      border-top-color: var(--fill-color);\n",
              "    }\n",
              "    30% {\n",
              "      border-color: transparent;\n",
              "      border-left-color: var(--fill-color);\n",
              "      border-top-color: var(--fill-color);\n",
              "      border-right-color: var(--fill-color);\n",
              "    }\n",
              "    40% {\n",
              "      border-color: transparent;\n",
              "      border-right-color: var(--fill-color);\n",
              "      border-top-color: var(--fill-color);\n",
              "    }\n",
              "    60% {\n",
              "      border-color: transparent;\n",
              "      border-right-color: var(--fill-color);\n",
              "    }\n",
              "    80% {\n",
              "      border-color: transparent;\n",
              "      border-right-color: var(--fill-color);\n",
              "      border-bottom-color: var(--fill-color);\n",
              "    }\n",
              "    90% {\n",
              "      border-color: transparent;\n",
              "      border-bottom-color: var(--fill-color);\n",
              "    }\n",
              "  }\n",
              "</style>\n",
              "\n",
              "      <script>\n",
              "        async function quickchart(key) {\n",
              "          const quickchartButtonEl =\n",
              "            document.querySelector('#' + key + ' button');\n",
              "          quickchartButtonEl.disabled = true;  // To prevent multiple clicks.\n",
              "          quickchartButtonEl.classList.add('colab-df-spinner');\n",
              "          try {\n",
              "            const charts = await google.colab.kernel.invokeFunction(\n",
              "                'suggestCharts', [key], {});\n",
              "          } catch (error) {\n",
              "            console.error('Error during call to suggestCharts:', error);\n",
              "          }\n",
              "          quickchartButtonEl.classList.remove('colab-df-spinner');\n",
              "          quickchartButtonEl.classList.add('colab-df-quickchart-complete');\n",
              "        }\n",
              "        (() => {\n",
              "          let quickchartButtonEl =\n",
              "            document.querySelector('#df-16bd117a-9f66-4f4e-9912-b1784c3b266e button');\n",
              "          quickchartButtonEl.style.display =\n",
              "            google.colab.kernel.accessAllowed ? 'block' : 'none';\n",
              "        })();\n",
              "      </script>\n",
              "    </div>\n",
              "\n",
              "  <div id=\"id_03c575c6-fbad-4bbc-8bef-3b01d6946258\">\n",
              "    <style>\n",
              "      .colab-df-generate {\n",
              "        background-color: #E8F0FE;\n",
              "        border: none;\n",
              "        border-radius: 50%;\n",
              "        cursor: pointer;\n",
              "        display: none;\n",
              "        fill: #1967D2;\n",
              "        height: 32px;\n",
              "        padding: 0 0 0 0;\n",
              "        width: 32px;\n",
              "      }\n",
              "\n",
              "      .colab-df-generate:hover {\n",
              "        background-color: #E2EBFA;\n",
              "        box-shadow: 0px 1px 2px rgba(60, 64, 67, 0.3), 0px 1px 3px 1px rgba(60, 64, 67, 0.15);\n",
              "        fill: #174EA6;\n",
              "      }\n",
              "\n",
              "      [theme=dark] .colab-df-generate {\n",
              "        background-color: #3B4455;\n",
              "        fill: #D2E3FC;\n",
              "      }\n",
              "\n",
              "      [theme=dark] .colab-df-generate:hover {\n",
              "        background-color: #434B5C;\n",
              "        box-shadow: 0px 1px 3px 1px rgba(0, 0, 0, 0.15);\n",
              "        filter: drop-shadow(0px 1px 2px rgba(0, 0, 0, 0.3));\n",
              "        fill: #FFFFFF;\n",
              "      }\n",
              "    </style>\n",
              "    <button class=\"colab-df-generate\" onclick=\"generateWithVariable('helipontos_df')\"\n",
              "            title=\"Generate code using this dataframe.\"\n",
              "            style=\"display:none;\">\n",
              "\n",
              "  <svg xmlns=\"http://www.w3.org/2000/svg\" height=\"24px\"viewBox=\"0 0 24 24\"\n",
              "       width=\"24px\">\n",
              "    <path d=\"M7,19H8.4L18.45,9,17,7.55,7,17.6ZM5,21V16.75L18.45,3.32a2,2,0,0,1,2.83,0l1.4,1.43a1.91,1.91,0,0,1,.58,1.4,1.91,1.91,0,0,1-.58,1.4L9.25,21ZM18.45,9,17,7.55Zm-12,3A5.31,5.31,0,0,0,4.9,8.1,5.31,5.31,0,0,0,1,6.5,5.31,5.31,0,0,0,4.9,4.9,5.31,5.31,0,0,0,6.5,1,5.31,5.31,0,0,0,8.1,4.9,5.31,5.31,0,0,0,12,6.5,5.46,5.46,0,0,0,6.5,12Z\"/>\n",
              "  </svg>\n",
              "    </button>\n",
              "    <script>\n",
              "      (() => {\n",
              "      const buttonEl =\n",
              "        document.querySelector('#id_03c575c6-fbad-4bbc-8bef-3b01d6946258 button.colab-df-generate');\n",
              "      buttonEl.style.display =\n",
              "        google.colab.kernel.accessAllowed ? 'block' : 'none';\n",
              "\n",
              "      buttonEl.onclick = () => {\n",
              "        google.colab.notebook.generateWithVariable('helipontos_df');\n",
              "      }\n",
              "      })();\n",
              "    </script>\n",
              "  </div>\n",
              "\n",
              "    </div>\n",
              "  </div>\n"
            ],
            "application/vnd.google.colaboratory.intrinsic+json": {
              "type": "dataframe",
              "variable_name": "helipontos_df",
              "summary": "{\n  \"name\": \"helipontos_df\",\n  \"rows\": 3,\n  \"fields\": [\n    {\n      \"column\": \"Nome\",\n      \"properties\": {\n        \"dtype\": \"string\",\n        \"num_unique_values\": 3,\n        \"samples\": [\n          \"Heliponto - Aut\\u00f3dromo Internacional de Bras\\u00edlia\",\n          \"Heliponto Parque Cidade\",\n          \"Heliponto - HFA\"\n        ],\n        \"semantic_type\": \"\",\n        \"description\": \"\"\n      }\n    },\n    {\n      \"column\": \"localizacao\",\n      \"properties\": {\n        \"dtype\": \"string\",\n        \"num_unique_values\": 3,\n        \"samples\": [\n          \"SRPN Trecho 1 - Bras\\u00edlia, DF, 70655-775\",\n          \"SCS Q. 6 BL A - Asa Sul, Bras\\u00edlia - DF, 70740-610\",\n          \"St. Sudoeste - Cruzeiro / Sudoeste / Octogonal, Bras\\u00edlia - DF, 70655-775\"\n        ],\n        \"semantic_type\": \"\",\n        \"description\": \"\"\n      }\n    }\n  ]\n}"
            }
          },
          "metadata": {}
        }
      ]
    },
    {
      "cell_type": "markdown",
      "source": [
        "exemplo de aula pratica:\n",
        "\n",
        "livro: POO Programação orientada objetos\n",
        "\n",
        "repositório do Github da kadidjah: https://github.com/Kadidjah/POO_python-orientacao-a-objetos"
      ],
      "metadata": {
        "id": "4OPU7efsrmvr"
      }
    },
    {
      "cell_type": "code",
      "source": [
        "from time import sleep\n",
        "\n",
        "\n",
        "'''\n",
        "Faça um programa que tenha uma função chamada contrador(), que receba três parâmetros: inicio, fim e passo.\n",
        "Seu programa tem que realizar três contagens através da função criada\n",
        "\n",
        "a) De 1 até 10, de 1 em 1\n",
        "b) De 10 até 0, de 2 em 2\n",
        "C) Uma contagem personalizada\n",
        "\n",
        "'''\n",
        "def contador(i, f, p):\n",
        "    print('-=' * 20)\n",
        "    print(f'Contagem de {i} até {f}, de {p} em {p}')\n",
        "    sleep(2.5)\n",
        "\n",
        "    if i < f:\n",
        "        cont = i\n",
        "        while cont <= f:\n",
        "            print(f'{cont}', end=' ', flush=True)\n",
        "            sleep(0.5)\n",
        "            cont += p\n",
        "        print('FIM!')\n",
        "\n",
        "    else:\n",
        "        conta = i\n",
        "        while cont >= f:\n",
        "            print(f'{cont}', end=' ', flush=True)\n",
        "            sleep(0.5)\n",
        "            cont -= p\n",
        "        print('FIM!')\n",
        "\n",
        "contador(1, 10, 1)\n",
        "print('Agora é sua vez de personalizar a contagem')\n",
        "ini = int(input('Inicio: '))\n",
        "fim = int(input('Fim: '))\n",
        "pas = int(input('Passo: '))\n",
        "\n",
        "contador(ini, fim, pas)"
      ],
      "metadata": {
        "colab": {
          "base_uri": "https://localhost:8080/"
        },
        "id": "MjR_HZS0UsMe",
        "outputId": "a7fa1a3f-b554-4ca3-e204-6e33e56decee"
      },
      "execution_count": 3,
      "outputs": [
        {
          "output_type": "stream",
          "name": "stdout",
          "text": [
            "-=-=-=-=-=-=-=-=-=-=-=-=-=-=-=-=-=-=-=-=\n",
            "Contagem de 1 até 10, de 1 em 1\n",
            "1 2 3 4 5 6 7 8 9 10 FIM!\n",
            "Agora é sua vez de personalizar a contagem\n",
            "Inicio: 1\n",
            "Fim: 9\n",
            "Passo: 3\n",
            "-=-=-=-=-=-=-=-=-=-=-=-=-=-=-=-=-=-=-=-=\n",
            "Contagem de 1 até 9, de 3 em 3\n",
            "1 4 7 FIM!\n"
          ]
        }
      ]
    },
    {
      "cell_type": "code",
      "execution_count": null,
      "metadata": {
        "id": "f1mPUoizrfdj"
      },
      "outputs": [],
      "source": [
        "numero = '123-4'\n",
        "titular = 'João'\n",
        "Saldo = 120.0\n",
        "Limite = 1000.0"
      ]
    },
    {
      "cell_type": "code",
      "source": [
        "numero1 = '123-4'\n",
        "titular1 = 'João'\n",
        "Saldo1 = 120.0\n",
        "Limite1 = 1000.0\n",
        "\n",
        "numero2 = '123-5'\n",
        "titular2 = \"José\"\n",
        "saldo2 = 200.0\n",
        "limite2 = 1000.0\n",
        "\n",
        "conta = {'numero'}\n"
      ],
      "metadata": {
        "id": "tTOkv1ULrp6U"
      },
      "execution_count": null,
      "outputs": []
    },
    {
      "cell_type": "code",
      "source": [
        "conta = {\"numero\": '123-4', \"titular\": \"João\", \"saldo\": 120.0, \"limite\": 1000.0}"
      ],
      "metadata": {
        "id": "LI5aJ4HVrsUx"
      },
      "execution_count": null,
      "outputs": []
    },
    {
      "cell_type": "code",
      "source": [
        "conta[\"numero\"]\n"
      ],
      "metadata": {
        "id": "wUihQnrHrttM"
      },
      "execution_count": null,
      "outputs": []
    },
    {
      "cell_type": "code",
      "source": [
        "conta2 = {\"numero\": '123-5', \"titular\": \"José\", \"saldo\": 200.0, \"limite\": 1000.0}"
      ],
      "metadata": {
        "id": "OF2xORtKru8p"
      },
      "execution_count": null,
      "outputs": []
    },
    {
      "cell_type": "code",
      "source": [
        "def cria_conta():\n",
        "    conta = {\"numero\": '123-4', \"titular\": \"João\", \"saldo\": 120.0, \"limite\": 1000.0}\n",
        "    return conta"
      ],
      "metadata": {
        "id": "xbS1GBRorxui"
      },
      "execution_count": null,
      "outputs": []
    },
    {
      "cell_type": "code",
      "source": [
        "def cria_conta(numero, titular, saldo, limite):\n",
        "    conta = {\"numero\": numero, \"titular\": titular, \"saldo\": saldo, \"limite\": limite}\n",
        "    return conta"
      ],
      "metadata": {
        "id": "9VdK9lNOrzVD"
      },
      "execution_count": null,
      "outputs": []
    },
    {
      "cell_type": "code",
      "source": [
        "conta1 = cria_conta('123-4', 'João', 120.0, 1000.0)\n",
        "conta2 = cria_conta('123-5', 'José', 200.0, 1000.0)\n"
      ],
      "metadata": {
        "id": "fyGRhe5ar0h6"
      },
      "execution_count": null,
      "outputs": []
    },
    {
      "cell_type": "code",
      "source": [
        "conta1['numero']\n",
        "'123-4'\n"
      ],
      "metadata": {
        "id": "_jOhTWWIr12B"
      },
      "execution_count": null,
      "outputs": []
    },
    {
      "cell_type": "code",
      "source": [
        "conta2['numero']\n",
        "'123-5'"
      ],
      "metadata": {
        "id": "IXKs44nyr3Qx"
      },
      "execution_count": null,
      "outputs": []
    },
    {
      "cell_type": "code",
      "source": [
        "#funcionalidades\n",
        "\n",
        "def deposita(conta, valor):\n",
        "    conta['saldo'] = conta['saldo'] + valor\n"
      ],
      "metadata": {
        "id": "idXqLiPVr6sr"
      },
      "execution_count": null,
      "outputs": []
    },
    {
      "cell_type": "code",
      "source": [
        "def deposita(conta, valor):\n",
        "    conta['saldo'] += valor"
      ],
      "metadata": {
        "id": "lh9UPiAUr81b"
      },
      "execution_count": null,
      "outputs": []
    },
    {
      "cell_type": "code",
      "source": [
        "def saca(conta, valor):\n",
        "    conta['saldo'] -= valor"
      ],
      "metadata": {
        "id": "InotoaiXr-QJ"
      },
      "execution_count": null,
      "outputs": []
    },
    {
      "cell_type": "code",
      "source": [
        "def extrato(conta):\n",
        "    print(\"numero: {} \\nsaldo: {}\".format(conta['numero'], conta['saldo']))"
      ],
      "metadata": {
        "id": "1ZTp2ZmYb1q9"
      },
      "execution_count": null,
      "outputs": []
    },
    {
      "cell_type": "code",
      "source": [
        "\n",
        "    conta = cria_conta('123-4', 'João', 120.0, 1000.0)\n",
        "    deposita(conta, 15.0)\n",
        "    extrato(conta)\n",
        "\n",
        "    #numero: '123-4'\n",
        "    #saldo: 135.0\n",
        "\n",
        "    saca(conta, 20.0)\n",
        "    extrato(conta)\n",
        "\n",
        "    #numero: '123-4'\n",
        "    #saldo 115.0"
      ],
      "metadata": {
        "id": "vEiE57husF9b"
      },
      "execution_count": null,
      "outputs": []
    },
    {
      "cell_type": "code",
      "source": [
        "class pessoa:\n",
        "  def __init__(self, nome, idade, peso, altura):\n",
        "    self.nome = nome\n",
        "    self.idade = idade\n",
        "    self.peso = peso\n",
        "    self.altura = altura\n",
        "\n",
        "  def envelhecer(self, anos =1):\n",
        "\n",
        "      for _ in range(anos):\n",
        "        self.idade += 1\n",
        "        if self.idade < 21:\n",
        "          self.altura += 0.05\n",
        "  def engordar(self, quilos):\n",
        "    self.peso -= quilos\n",
        "\n",
        "  def emagrecer(self, quilos):\n",
        "    self.peso += quilos\n",
        "\n",
        "  def crescer(self, centimetros):\n",
        "    self.altura += centimetros\n",
        "\n",
        "#exemplo de uso\n",
        "\n",
        "pessoal = pessoa(\"Alice\", 18, 69.0, 160.0)\n",
        "\n",
        "print(f\"Nome: {pessoal.nome}, Idade: {pessoal.idade}, Peso: {pessoal.peso} kg, Altura: {pessoal.altura} cm \")\n",
        "\n",
        "pessoal.envelhecer(3)\n",
        "pessoal.engordar(10)\n",
        "pessoal.emagrecer(5)\n",
        "pessoal.crescer(5)\n",
        "print(f\"nome: {pessoal.nome}, Idade: {pessoal.idade}, Peso: {pessoal.peso} kg, Altura: {pessoal.altura} cm \")"
      ],
      "metadata": {
        "colab": {
          "base_uri": "https://localhost:8080/"
        },
        "id": "LbMPTT4OsHu5",
        "outputId": "96c6e866-9c97-41f9-927d-57743678b4d7"
      },
      "execution_count": null,
      "outputs": [
        {
          "output_type": "stream",
          "name": "stdout",
          "text": [
            "Nome: Alice, Idade: 18, Peso: 69.0 kg, Altura: 160.0 cm \n",
            "nome: Alice, Idade: 21, Peso: 64.0 kg, Altura: 165.10000000000002 cm \n"
          ]
        }
      ]
    },
    {
      "cell_type": "markdown",
      "source": [
        "Unidade 1 - Listas\n",
        "\n",
        "Listas são cadeias de valores, isto é, armazenam mais de um valor. São estruturas ordenadas, mutáveis e heterogêneas."
      ],
      "metadata": {
        "id": "wkcbRjoVerE4"
      }
    },
    {
      "cell_type": "code",
      "source": [
        "x = [1, 2, 3, 4, 5]\n",
        "print(x)"
      ],
      "metadata": {
        "colab": {
          "base_uri": "https://localhost:8080/"
        },
        "id": "SI1-B5vofZDh",
        "outputId": "80b2958c-ddac-47ea-9838-8000fac5f657"
      },
      "execution_count": null,
      "outputs": [
        {
          "output_type": "stream",
          "name": "stdout",
          "text": [
            "[1, 2, 3, 4, 5]\n"
          ]
        }
      ]
    },
    {
      "cell_type": "markdown",
      "source": [
        "Como dito anteriormente, a lista é ordenada. Cada um dos 5 elementos da lista acima\n",
        "possui um índice, na ordem em que estão armazenados, de 0 a 4. Um item pode ser\n",
        "selecionado individualmente pelo uso dos colchetes, Lista[índice]\n"
      ],
      "metadata": {
        "id": "ML3PpJOKg7cQ"
      }
    },
    {
      "cell_type": "code",
      "source": [
        "x = [1, 2, 3, 4, 5]\n",
        "print(x[0])"
      ],
      "metadata": {
        "colab": {
          "base_uri": "https://localhost:8080/"
        },
        "id": "YItPKHpAhFZ7",
        "outputId": "33f18930-4f3e-43e2-d1dc-ae95a94de751"
      },
      "execution_count": null,
      "outputs": [
        {
          "output_type": "stream",
          "name": "stdout",
          "text": [
            "1\n"
          ]
        }
      ]
    },
    {
      "cell_type": "markdown",
      "source": [
        "Listas vazias podem ser criadas usando-se uma das duas sintases a seguir:"
      ],
      "metadata": {
        "id": "aV1pCyGufjjw"
      }
    },
    {
      "cell_type": "code",
      "source": [
        "x = []\n",
        "x = list()"
      ],
      "metadata": {
        "id": "X4Jq0tElfu2w"
      },
      "execution_count": null,
      "outputs": []
    },
    {
      "cell_type": "markdown",
      "source": [
        "Para a adição de novos valores pode-se usar o metodo append(valor) ou o operador \"+\", que no caso das listas, executa concatenação"
      ],
      "metadata": {
        "id": "gY6Yw7nOgIQg"
      }
    },
    {
      "cell_type": "markdown",
      "source": [
        "Como a lista é mutável, os valores nela armazenados podem ser alterados e novos valores\n",
        "podem ser adicionados"
      ],
      "metadata": {
        "id": "ZE70mYoShR0x"
      }
    },
    {
      "cell_type": "code",
      "source": [
        "x = [1, 2, 3, 4, 5]\n",
        "x[0] = 10\n",
        "print(x)"
      ],
      "metadata": {
        "id": "s29E_wBkhTgp"
      },
      "execution_count": null,
      "outputs": []
    },
    {
      "cell_type": "markdown",
      "source": [
        "Para a adição de novos valores pode-se usar o método append(valor) ou o operador \"+\",\n",
        "que no caso das listas, executa concatenação"
      ],
      "metadata": {
        "id": "2v5jN7fzhZko"
      }
    },
    {
      "cell_type": "code",
      "source": [
        "x = [1, 2, 3, 4, 5]\n",
        "x.append(6)\n",
        "print(x)"
      ],
      "metadata": {
        "colab": {
          "base_uri": "https://localhost:8080/"
        },
        "id": "aVwYKlbchaRw",
        "outputId": "2838bb66-a240-41cf-bb63-68cc72bad68b"
      },
      "execution_count": null,
      "outputs": [
        {
          "output_type": "stream",
          "name": "stdout",
          "text": [
            "[1, 2, 3, 4, 5, 6]\n"
          ]
        }
      ]
    },
    {
      "cell_type": "markdown",
      "source": [
        "A heterogeneidade permite que a lista armazene tipos variados, incluindo também outras\n",
        "listas:"
      ],
      "metadata": {
        "id": "svO76iQ3hiVs"
      }
    },
    {
      "cell_type": "code",
      "source": [
        "x = [1, 2, 3, 4, 5]\n",
        "x.append([6, 7])\n",
        "print(x)"
      ],
      "metadata": {
        "id": "d_NhQeClhi2A"
      },
      "execution_count": null,
      "outputs": []
    },
    {
      "cell_type": "markdown",
      "source": [
        "clear() Esvazia a lista"
      ],
      "metadata": {
        "id": "YcyVJduf90Ho"
      }
    },
    {
      "cell_type": "code",
      "source": [
        "x = [1, 2, 3]\n",
        "x.clear()\n",
        "print(x)"
      ],
      "metadata": {
        "colab": {
          "base_uri": "https://localhost:8080/"
        },
        "id": "ly4y_-Zb903h",
        "outputId": "16d6c86c-3299-4ea2-c898-48c99b9f8657"
      },
      "execution_count": null,
      "outputs": [
        {
          "output_type": "stream",
          "name": "stdout",
          "text": [
            "[]\n"
          ]
        }
      ]
    },
    {
      "cell_type": "markdown",
      "source": [
        "count() Retorna quantas ocorrências há do argumento passado"
      ],
      "metadata": {
        "id": "MrtMitKU-EqZ"
      }
    },
    {
      "cell_type": "code",
      "source": [
        "x = [1, 2, 3, 3, 3, 4]\n",
        "x.count(3)"
      ],
      "metadata": {
        "colab": {
          "base_uri": "https://localhost:8080/"
        },
        "id": "udSwTjmH9_v0",
        "outputId": "cee0e8ca-78cd-4418-df1d-fc447bd0d9c6"
      },
      "execution_count": null,
      "outputs": [
        {
          "output_type": "execute_result",
          "data": {
            "text/plain": [
              "3"
            ]
          },
          "metadata": {},
          "execution_count": 2
        }
      ]
    },
    {
      "cell_type": "markdown",
      "source": [
        "index() Retorna o índice da primeira ocorrência do argumento passado"
      ],
      "metadata": {
        "id": "PDGNjt1y-WAy"
      }
    },
    {
      "cell_type": "code",
      "source": [
        "x = [1, 2, 3, 4, 5, 6 ]\n",
        "x.index(3)"
      ],
      "metadata": {
        "colab": {
          "base_uri": "https://localhost:8080/"
        },
        "id": "cL0WCsoy-UC-",
        "outputId": "c1e642b8-5e5a-45ad-9465-46446cc544f3"
      },
      "execution_count": null,
      "outputs": [
        {
          "output_type": "execute_result",
          "data": {
            "text/plain": [
              "2"
            ]
          },
          "metadata": {},
          "execution_count": 3
        }
      ]
    },
    {
      "cell_type": "markdown",
      "source": [
        "insert() Insere na posição especificada um elemento:"
      ],
      "metadata": {
        "id": "tDpKlxm4-t4R"
      }
    },
    {
      "cell_type": "code",
      "source": [
        "x = ['a', 'b', 'c']\n",
        "x.insert(1, 'd')\n",
        "print(x)\n"
      ],
      "metadata": {
        "colab": {
          "base_uri": "https://localhost:8080/"
        },
        "id": "d0dJo6VX-jOE",
        "outputId": "1400f95b-edec-4d2c-cf74-9f27f0f4c3b2"
      },
      "execution_count": null,
      "outputs": [
        {
          "output_type": "stream",
          "name": "stdout",
          "text": [
            "['a', 'b', 'd', 'c']\n"
          ]
        }
      ]
    },
    {
      "cell_type": "markdown",
      "source": [
        "pop() Remove e retorna o elemento da posição especificada:"
      ],
      "metadata": {
        "id": "7l0mKzn3_LYb"
      }
    },
    {
      "cell_type": "code",
      "source": [
        "x = ['a', 'b', 'c']\n",
        "x.pop(1)\n",
        "print(x)"
      ],
      "metadata": {
        "colab": {
          "base_uri": "https://localhost:8080/"
        },
        "id": "dquZ7MXT_LLL",
        "outputId": "58e0aee9-53a7-4d10-f917-24436b7459a7"
      },
      "execution_count": null,
      "outputs": [
        {
          "output_type": "stream",
          "name": "stdout",
          "text": [
            "['a', 'c']\n"
          ]
        }
      ]
    },
    {
      "cell_type": "markdown",
      "source": [
        "remove() Remove o elemento especificado:"
      ],
      "metadata": {
        "id": "J4riDaMb_Toa"
      }
    },
    {
      "cell_type": "code",
      "source": [
        "x = ['a', 'b', 'c']\n",
        "x.remove('b')\n",
        "print(x)"
      ],
      "metadata": {
        "colab": {
          "base_uri": "https://localhost:8080/"
        },
        "id": "JchPboY-_SUn",
        "outputId": "c6eccd0a-6b36-48e0-b4a4-85cfafbd8e18"
      },
      "execution_count": null,
      "outputs": [
        {
          "output_type": "stream",
          "name": "stdout",
          "text": [
            "['a', 'c']\n"
          ]
        }
      ]
    },
    {
      "cell_type": "markdown",
      "source": [
        "reverse() Inverte a ordem dos elementos"
      ],
      "metadata": {
        "id": "Nw8n5KMr_bMN"
      }
    },
    {
      "cell_type": "code",
      "source": [
        "x = ['a', 'b', 'c']\n",
        "x.reverse()\n",
        "print(x)"
      ],
      "metadata": {
        "colab": {
          "base_uri": "https://localhost:8080/"
        },
        "id": "zOp74eT2_Y3M",
        "outputId": "3eff4803-4e94-447e-d056-1ffadda63d1b"
      },
      "execution_count": null,
      "outputs": [
        {
          "output_type": "stream",
          "name": "stdout",
          "text": [
            "['c', 'b', 'a']\n"
          ]
        }
      ]
    },
    {
      "cell_type": "markdown",
      "source": [
        "sort() Ordena"
      ],
      "metadata": {
        "id": "i6bZ7wEN_g0U"
      }
    },
    {
      "cell_type": "code",
      "source": [
        "x = [3, 2, 1]\n",
        "x.sort()\n",
        "print(x)"
      ],
      "metadata": {
        "colab": {
          "base_uri": "https://localhost:8080/"
        },
        "id": "iIRwWTg3_dC5",
        "outputId": "901db632-90d3-4d9d-a1ea-410095ac76d2"
      },
      "execution_count": null,
      "outputs": [
        {
          "output_type": "stream",
          "name": "stdout",
          "text": [
            "[1, 2, 3]\n"
          ]
        }
      ]
    },
    {
      "cell_type": "markdown",
      "source": [
        "Laço for\n",
        "\n",
        "Os conjuntos finitos de valores usados na estrutura de repetição for para iterar uma variável,\n",
        "também é uma lista"
      ],
      "metadata": {
        "id": "3GzSbb74_nkN"
      }
    },
    {
      "cell_type": "code",
      "source": [
        "x = ['a', 'b', 'c']\n",
        "for i in x:\n",
        "  print(i)"
      ],
      "metadata": {
        "colab": {
          "base_uri": "https://localhost:8080/"
        },
        "id": "5Os8FGhL_knw",
        "outputId": "9a4de8a9-f851-4074-b03e-71116825b5ec"
      },
      "execution_count": null,
      "outputs": [
        {
          "output_type": "stream",
          "name": "stdout",
          "text": [
            "a\n",
            "b\n",
            "c\n"
          ]
        }
      ]
    },
    {
      "cell_type": "markdown",
      "source": [
        "No entanto, fora da iteração for, o operador in retorna verdadeiro se o i está presente em x, ou falso caso contrário"
      ],
      "metadata": {
        "id": "hgJvo2Q_AF-6"
      }
    },
    {
      "cell_type": "code",
      "source": [
        "x = ['a', 'b', 'c']\n",
        "i = 10\n",
        "i in x"
      ],
      "metadata": {
        "colab": {
          "base_uri": "https://localhost:8080/"
        },
        "id": "vF4FliEo_sH7",
        "outputId": "db716cf1-d2a7-40a3-e31d-133e5deaed1b"
      },
      "execution_count": null,
      "outputs": [
        {
          "output_type": "execute_result",
          "data": {
            "text/plain": [
              "False"
            ]
          },
          "metadata": {},
          "execution_count": 13
        }
      ]
    },
    {
      "cell_type": "markdown",
      "source": [
        "Quando uma lista é criada a partir de um laço for, é possível reescrever o procedimento de\n",
        "forma mais compacta."
      ],
      "metadata": {
        "id": "lz1C0mS8AYk5"
      }
    },
    {
      "cell_type": "code",
      "source": [
        "A = [3, 4, 5, 10]\n",
        "soma1 = list()\n",
        "for i in A:\n",
        "  soma1.append(i + 1)\n",
        "print(soma1)"
      ],
      "metadata": {
        "colab": {
          "base_uri": "https://localhost:8080/"
        },
        "id": "lXimvvPwAQ3S",
        "outputId": "fb6f5803-a27c-44ef-8ad5-d836e79045b3"
      },
      "execution_count": null,
      "outputs": [
        {
          "output_type": "stream",
          "name": "stdout",
          "text": [
            "[4, 5, 6, 11]\n"
          ]
        }
      ]
    },
    {
      "cell_type": "markdown",
      "source": [
        "Neste exemplo, uma nova lista soma1 é criada a partir de A somando-se 1 a cada elemento.\n",
        "A sintaxe da forma compacta pode ser expressa da seguinte forma:\n",
        "NovaLista = [ Elemento for Variavel in VelhaLista if Condicao ]\n",
        "No Exemplo anterior, seria:"
      ],
      "metadata": {
        "id": "_nBcUxxMAr9D"
      }
    },
    {
      "cell_type": "code",
      "source": [
        "A = [3, 4, 5, 10]\n",
        "soma1 = [i + 1 for i in A]\n",
        "print(soma1)"
      ],
      "metadata": {
        "colab": {
          "base_uri": "https://localhost:8080/"
        },
        "id": "tK_L0ml6ArjF",
        "outputId": "d981f74c-4c68-45e6-b9c8-4cf4ddf1fff4"
      },
      "execution_count": null,
      "outputs": [
        {
          "output_type": "stream",
          "name": "stdout",
          "text": [
            "[4, 5, 6, 11]\n"
          ]
        }
      ]
    },
    {
      "cell_type": "markdown",
      "source": [
        "É possível também usar a forma compacta com condições"
      ],
      "metadata": {
        "id": "ZlVZPkGoA-m2"
      }
    },
    {
      "cell_type": "code",
      "source": [
        "A = [0, 0, 5, 3, 2, 7, 4, 10, 4, 7]\n",
        "N = list()\n",
        "for i in A:\n",
        "  N += [i*1]\n",
        "  print(N)"
      ],
      "metadata": {
        "colab": {
          "base_uri": "https://localhost:8080/"
        },
        "id": "KJw8wHU_A2jR",
        "outputId": "266530de-bf89-4b50-9983-d15a95018034"
      },
      "execution_count": null,
      "outputs": [
        {
          "output_type": "stream",
          "name": "stdout",
          "text": [
            "[0]\n",
            "[0, 0]\n",
            "[0, 0, 5]\n",
            "[0, 0, 5, 3]\n",
            "[0, 0, 5, 3, 2]\n",
            "[0, 0, 5, 3, 2, 7]\n",
            "[0, 0, 5, 3, 2, 7, 4]\n",
            "[0, 0, 5, 3, 2, 7, 4, 10]\n",
            "[0, 0, 5, 3, 2, 7, 4, 10, 4]\n",
            "[0, 0, 5, 3, 2, 7, 4, 10, 4, 7]\n"
          ]
        }
      ]
    },
    {
      "cell_type": "markdown",
      "source": [
        "Aula 18/03"
      ],
      "metadata": {
        "id": "TjDAe_j1babb"
      }
    },
    {
      "cell_type": "code",
      "source": [
        "#Faça um programa que pergunte que\n",
        "\n",
        "dia_atual = int(input(\"digite o dia atual:\"))\n",
        "mes = 31\n",
        "dias_faltantes = mes - dia_atual\n",
        "print(\"Faltam: \", dias_faltantes)"
      ],
      "metadata": {
        "colab": {
          "base_uri": "https://localhost:8080/"
        },
        "id": "KzvXZkW_cLkn",
        "outputId": "2385b523-bf26-4a61-a847-53096bbe7792"
      },
      "execution_count": null,
      "outputs": [
        {
          "output_type": "stream",
          "name": "stdout",
          "text": [
            "digite o dia atual:14\n",
            "Faltam:  17\n"
          ]
        }
      ]
    },
    {
      "cell_type": "code",
      "source": [
        "# 1)  Manipulação de lista:\n",
        "# Inversão e ordernação, criar uma lista de 1 a 100 em seguida inverta a ordem\n",
        "\n",
        "lista = list(range(1, 101))\n",
        "lista.reverse()\n",
        "print(lista)"
      ],
      "metadata": {
        "colab": {
          "base_uri": "https://localhost:8080/"
        },
        "id": "OM6JR8b-ffkS",
        "outputId": "718dad3a-e142-4188-b808-24b5b6b9d639"
      },
      "execution_count": null,
      "outputs": [
        {
          "output_type": "stream",
          "name": "stdout",
          "text": [
            "[100, 99, 98, 97, 96, 95, 94, 93, 92, 91, 90, 89, 88, 87, 86, 85, 84, 83, 82, 81, 80, 79, 78, 77, 76, 75, 74, 73, 72, 71, 70, 69, 68, 67, 66, 65, 64, 63, 62, 61, 60, 59, 58, 57, 56, 55, 54, 53, 52, 51, 50, 49, 48, 47, 46, 45, 44, 43, 42, 41, 40, 39, 38, 37, 36, 35, 34, 33, 32, 31, 30, 29, 28, 27, 26, 25, 24, 23, 22, 21, 20, 19, 18, 17, 16, 15, 14, 13, 12, 11, 10, 9, 8, 7, 6, 5, 4, 3, 2, 1]\n"
          ]
        }
      ]
    },
    {
      "cell_type": "code",
      "source": [
        "vetor = ['UDF']\n",
        "vetor [0:3]"
      ],
      "metadata": {
        "colab": {
          "base_uri": "https://localhost:8080/"
        },
        "id": "FuTsezh6i4Rv",
        "outputId": "cc182e14-5fde-48cb-9133-b6e03a71056d"
      },
      "execution_count": null,
      "outputs": [
        {
          "output_type": "execute_result",
          "data": {
            "text/plain": [
              "['UDF']"
            ]
          },
          "metadata": {},
          "execution_count": 2
        }
      ]
    },
    {
      "cell_type": "markdown",
      "source": [
        ". Implementação de Lista Encadeada para Gerenciamento de Tarefas"
      ],
      "metadata": {
        "id": "aaWRzmN_kSwe"
      }
    },
    {
      "cell_type": "code",
      "source": [
        "class tarefa:\n",
        "  def __init__(self, nome):\n",
        "    self.nome = nome\n",
        "    self.proxima = None\n",
        "\n",
        "class listaencandeada:\n",
        "  def __init__(self):\n",
        "    self.head = None\n",
        "\n",
        "  def adicionar_tarefa(self,nome):\n",
        "    nova_tarefa = tarefa(nome)\n",
        "    nova_tarefa.proxima = self.head\n",
        "    self.head = nova_tarefa\n",
        "\n",
        "  def remover_tarefa(self, nome):\n",
        "    atual = self.head\n",
        "    anterior = None\n",
        "\n",
        "    while atual and atual.nome != nome:\n",
        "      anterior = atual\n",
        "      atual = atual.proxima\n",
        "\n",
        "    if atual:\n",
        "      if anterior:\n",
        "        anterior.proxima = atual.proxima\n",
        "      else:\n",
        "        self.head = atual.proxima\n",
        "      print(\"Tarefa não encontrada\")\n",
        "\n",
        "  def mostrar_tarefa(self):\n",
        "    atual = self.head\n",
        "    while atual:\n",
        "      print(atual.nome)\n",
        "      atual = atual.proxima\n",
        "\n",
        "\n",
        "lista_tarefas = listaencandeada()\n",
        "lista_tarefas.adicionar_tarefa(\"Estudar Python\")\n",
        "lista_tarefas.adicionar_tarefa(\"Estudar POO\")\n",
        "print('Tarefas iniciais: ')\n",
        "lista_tarefas.mostrar_tarefa()\n",
        "\n",
        "lista_tarefas.remover_tarefa(\"Estudar POO\")\n",
        "print('Tarefas após remoção: ')\n",
        "lista_tarefas.mostrar_tarefa()\n"
      ],
      "metadata": {
        "colab": {
          "base_uri": "https://localhost:8080/"
        },
        "id": "IaOhESX12k9h",
        "outputId": "64c8a302-681b-460c-a8c3-930ef0f524a5"
      },
      "execution_count": null,
      "outputs": [
        {
          "output_type": "stream",
          "name": "stdout",
          "text": [
            "Tarefas iniciais: \n",
            "Estudar POO\n",
            "Estudar Python\n",
            "Tarefa não encontrada\n",
            "Tarefas após remoção: \n",
            "Estudar Python\n"
          ]
        }
      ]
    },
    {
      "cell_type": "markdown",
      "source": [
        "2. Agenda Telefônica com Lista Duplamente Encadeada"
      ],
      "metadata": {
        "id": "B0s5yKVw6eXg"
      }
    },
    {
      "cell_type": "code",
      "source": [
        "class Contato:\n",
        "    def __init__(self, nome, telefone):\n",
        "        self.nome = nome\n",
        "        self.telefone = telefone\n",
        "        self.proximo = None\n",
        "        self.anterior = None\n",
        "\n",
        "class ListaDuplamenteEncadeada:\n",
        "    def __init__(self):\n",
        "        self.head = None\n",
        "\n",
        "    def adicionar_contato(self, nome, telefone):\n",
        "        novo_contato = Contato(nome, telefone)\n",
        "        novo_contato.proximo = self.head\n",
        "\n",
        "        if self.head:\n",
        "            self.head.anterior = novo_contato\n",
        "\n",
        "        self.head = novo_contato\n",
        "\n",
        "    def remover_contato(self, nome):\n",
        "        atual = self.head\n",
        "\n",
        "        while atual and atual.nome != nome:\n",
        "            atual = atual.proximo\n",
        "\n",
        "        if atual:\n",
        "            if atual.anterior:\n",
        "                atual.anterior.proximo = atual.proximo\n",
        "            if atual.proximo:\n",
        "                atual.proximo.anterior = atual.anterior\n",
        "            if atual == self.head:\n",
        "                self.head = atual.proximo\n",
        "\n",
        "    def buscar_contato(self, nome):\n",
        "        atual = self.head\n",
        "        while atual:\n",
        "            if atual.nome == nome:\n",
        "                return f\"Contato encontrado: {atual.nome}, {atual.telefone}\"\n",
        "            atual = atual.proximo\n",
        "        return \"Contato não encontrado\"\n",
        "\n",
        "# Instanciando a lista e adicionando contatos\n",
        "agenda = ListaDuplamenteEncadeada()\n",
        "agenda.adicionar_contato(\"João\", \"123456789\")\n",
        "agenda.adicionar_contato(\"Maria\", \"987654321\")\n",
        "print(agenda.buscar_contato(\"João\"))\n",
        "agenda.remover_contato(\"Maria\")\n",
        "print(agenda.buscar_contato(\"Maria\"))"
      ],
      "metadata": {
        "colab": {
          "base_uri": "https://localhost:8080/"
        },
        "id": "bs4Oc-dK6fMn",
        "outputId": "f89253e1-7666-43bd-f296-35e3253752af"
      },
      "execution_count": null,
      "outputs": [
        {
          "output_type": "stream",
          "name": "stdout",
          "text": [
            "Contato encontrado: João, 123456789\n",
            "Contato não encontrado\n"
          ]
        }
      ]
    },
    {
      "cell_type": "markdown",
      "source": [
        "3. Controle de Histórico de Navegação\n"
      ],
      "metadata": {
        "id": "TlstWl098dWX"
      }
    },
    {
      "cell_type": "code",
      "source": [
        "class Pagina:\n",
        "    def __init__(self, url):\n",
        "        self.url = url\n",
        "        self.proxima = None\n",
        "        self.anterior = None\n",
        "\n",
        "class Historico:\n",
        "    def __init__(self):\n",
        "        self.atual = None\n",
        "\n",
        "    def visitar_pagina(self, url):\n",
        "        nova_pagina = Pagina(url)\n",
        "        if self.atual:\n",
        "            self.atual.proxima = nova_pagina\n",
        "            nova_pagina.anterior = self.atual\n",
        "        self.atual = nova_pagina\n",
        "        print(f'Visitado: {self.atual.url}')\n",
        "\n",
        "    def voltar(self):\n",
        "        if self.atual and self.atual.anterior:\n",
        "            self.atual = self.atual.anterior\n",
        "            print(f'Voltando para: {self.atual.url}')\n",
        "        else:\n",
        "            print('Não há página anterior.')\n",
        "\n",
        "    def avancar(self):\n",
        "        if self.atual and self.atual.proxima:\n",
        "            self.atual = self.atual.proxima\n",
        "            print(f'Avançando para: {self.atual.url}')\n",
        "        else:\n",
        "            print('Não há página seguinte.')\n",
        "\n",
        "# Teste\n",
        "historico = Historico()\n",
        "historico.visitar_pagina(\"pagina1.com\")\n",
        "historico.visitar_pagina(\"pagina2.com\")\n",
        "historico.visitar_pagina(\"pagina3.com\")\n",
        "historico.voltar()\n",
        "historico.avancar()\n",
        "historico.avancar()\n",
        "historico.avancar()\n",
        "historico.voltar()\n"
      ],
      "metadata": {
        "colab": {
          "base_uri": "https://localhost:8080/"
        },
        "id": "LaV5KV9r8lHW",
        "outputId": "802db357-44f2-4350-82dc-4dca46d97eea"
      },
      "execution_count": null,
      "outputs": [
        {
          "output_type": "stream",
          "name": "stdout",
          "text": [
            "Visitado: pagina1.com\n",
            "Visitado: pagina2.com\n",
            "Visitado: pagina3.com\n",
            "Voltando para: pagina2.com\n",
            "Avançando para: pagina3.com\n",
            "Não há página seguinte.\n",
            "Não há página seguinte.\n",
            "Voltando para: pagina2.com\n"
          ]
        }
      ]
    },
    {
      "cell_type": "markdown",
      "source": [
        "4. Sistema de Impressão de Documentos"
      ],
      "metadata": {
        "id": "D9Sx9aK4jyRQ"
      }
    },
    {
      "cell_type": "code",
      "source": [
        "class Documento:\n",
        "    def __init__(self, nome):\n",
        "        self.nome = nome\n",
        "        self.proximo = None\n",
        "\n",
        "class FilaImpressao:\n",
        "    def __init__(self):\n",
        "        self.head = None\n",
        "        self.tail = None\n",
        "\n",
        "    def adicionar_documento(self, nome):\n",
        "        novo_documento = Documento(nome)\n",
        "        if not self.head:\n",
        "            self.head = novo_documento\n",
        "            self.tail = novo_documento\n",
        "        else:\n",
        "            self.tail.proximo = novo_documento\n",
        "            self.tail = novo_documento\n",
        "        print(f\"Documento '{nome}' adicionado à fila.\")\n",
        "\n",
        "    def imprimir_documento(self):\n",
        "        if self.head:\n",
        "            documento_impresso = self.head.nome\n",
        "            self.head = self.head.proximo\n",
        "            if not self.head:\n",
        "                self.tail = None\n",
        "            print(f\"Imprimindo documento: {documento_impresso}\")\n",
        "            return documento_impresso\n",
        "        else:\n",
        "            print(\"A fila de impressão está vazia.\")\n",
        "            return None\n",
        "\n",
        "    def mostrar_fila(self):\n",
        "        atual = self.head\n",
        "        if not atual:\n",
        "            print(\"A fila de impressão está vazia.\")\n",
        "            return\n",
        "        print(\"Fila de impressão:\")\n",
        "        while atual:\n",
        "            print(f\"- {atual.nome}\")\n",
        "            atual = atual.proximo\n",
        "\n",
        "# Exemplo de uso\n",
        "fila = FilaImpressao()\n",
        "fila.adicionar_documento(\"Relatório Financeiro\")\n",
        "fila.adicionar_documento(\"Apresentação de Vendas\")\n",
        "fila.adicionar_documento(\"Contrato\")\n",
        "\n",
        "fila.mostrar_fila()\n",
        "fila.imprimir_documento()\n",
        "fila.mostrar_fila()\n",
        "fila.imprimir_documento()\n",
        "fila.imprimir_documento()\n",
        "fila.imprimir_documento()\n"
      ],
      "metadata": {
        "colab": {
          "base_uri": "https://localhost:8080/"
        },
        "id": "ZSj7stLqjUgw",
        "outputId": "d94eb598-b210-4868-d918-91fcacad6a2b"
      },
      "execution_count": null,
      "outputs": [
        {
          "output_type": "stream",
          "name": "stdout",
          "text": [
            "Documento 'Relatório Financeiro' adicionado à fila.\n",
            "Documento 'Apresentação de Vendas' adicionado à fila.\n",
            "Documento 'Contrato' adicionado à fila.\n",
            "Fila de impressão:\n",
            "- Relatório Financeiro\n",
            "- Apresentação de Vendas\n",
            "- Contrato\n",
            "Imprimindo documento: Relatório Financeiro\n",
            "Fila de impressão:\n",
            "- Apresentação de Vendas\n",
            "- Contrato\n",
            "Imprimindo documento: Apresentação de Vendas\n",
            "Imprimindo documento: Contrato\n",
            "A fila de impressão está vazia.\n"
          ]
        }
      ]
    },
    {
      "cell_type": "markdown",
      "source": [
        "5. Autocomplete em Buscas"
      ],
      "metadata": {
        "id": "-cO7Cpayj2Tg"
      }
    },
    {
      "cell_type": "code",
      "source": [
        "class Node:\n",
        "    def __init__(self, data):\n",
        "        self.data = data\n",
        "        self.proximo = None\n",
        "\n",
        "class ListaEncadeadaAutocomplete:\n",
        "    def __init__(self):\n",
        "        self.head = None\n",
        "\n",
        "    def adicionar_palavra(self, palavra):\n",
        "        novo_node = Node(palavra)\n",
        "        if not self.head:\n",
        "            self.head = novo_node\n",
        "        else:\n",
        "            atual = self.head\n",
        "            while atual.proximo:\n",
        "                atual = atual.proximo\n",
        "            atual.proximo = novo_node\n",
        "\n",
        "    def sugerir_palavras(self, prefixo):\n",
        "        sugestoes = []\n",
        "        atual = self.head\n",
        "        while atual:\n",
        "            if atual.data.startswith(prefixo):\n",
        "                sugestoes.append(atual.data)\n",
        "            atual = atual.proximo\n",
        "        return sugestoes\n",
        "\n",
        "# Exemplo de uso\n",
        "autocomplete = ListaEncadeadaAutocomplete()\n",
        "autocomplete.adicionar_palavra(\"apple\")\n",
        "autocomplete.adicionar_palavra(\"apricot\")\n",
        "autocomplete.adicionar_palavra(\"banana\")\n",
        "autocomplete.adicionar_palavra(\"grape\")\n",
        "autocomplete.adicionar_palavra(\"application\")\n",
        "\n",
        "print(f\"Sugestões para 'ap': {autocomplete.sugerir_palavras('ap')}\")\n",
        "print(f\"Sugestões para 'ba': {autocomplete.sugerir_palavras('ba')}\")\n",
        "print(f\"Sugestões para 'g': {autocomplete.sugerir_palavras('g')}\")\n",
        "print(f\"Sugestões para 'or': {autocomplete.sugerir_palavras('or')}\")\n"
      ],
      "metadata": {
        "colab": {
          "base_uri": "https://localhost:8080/"
        },
        "id": "Yz5ZmgUojojg",
        "outputId": "67d4fc4f-139b-4b68-d372-10d0663f9d05"
      },
      "execution_count": null,
      "outputs": [
        {
          "output_type": "stream",
          "name": "stdout",
          "text": [
            "Sugestões para 'ap': ['apple', 'apricot', 'application']\n",
            "Sugestões para 'ba': ['banana']\n",
            "Sugestões para 'g': ['grape']\n",
            "Sugestões para 'or': []\n"
          ]
        }
      ]
    },
    {
      "cell_type": "markdown",
      "source": [
        "# **ATIVIDADES RELACIONADAS AO FILME: JOGO DA IMITAÇÃO**"
      ],
      "metadata": {
        "id": "TmP2dJ2A0oZv"
      }
    },
    {
      "cell_type": "markdown",
      "source": [
        "ATIVIDADE 1\n",
        "-------------\n",
        "\n",
        " Exemplo no contexto do filme: Ao tentar diferentes configurações das rotas da máquina de Enigma, a ordem das tentativas importa, pois a cada novo conjunto de tentativas, o algoritmo deve testar as possibilidades de forma sequencial para ver se uma delas quebra o código. Usando uma fila, o algoritmo poderia pegar a primeira configuração, tentar, e se não funcionar, retiraria essa configuração da fila, passando para a próxima. Isso garante que nenhuma tentativa seja repetida e que todas as possibilidades sejam verificadas de maneira ordenada.\n",
        "\n",
        "ATIVIDADE 2\n",
        "-------------\n",
        "\n",
        "Exemplo no contexto do filme: Durante o processo de tentativa e erro para encontrar a chave correta, pode ser necessário voltar atrás e tentar outras combinações que não funcionaram no passado. Usando uma pilha, a máquina de Turing poderia armazenar os passos feitos, de forma que, ao identificar uma falha em uma configuração recente, ela pudesse \"voltar\" ao estado anterior, descartando a tentativa errada (o último passo), sem perder as decisões anteriores.\n",
        "\n",
        "ATIVIDADE 3\n",
        "--------------------\n",
        "\n",
        "Exemplo no contexto do filme: Ao testar diferentes padrões e combinações, seria essencial garantir que nenhum padrão fosse testado mais de uma vez. Se a máquina de Turing já tivesse tentado um padrão (como um conjunto de letras ou números), ele não precisaria ser repetido. Uma lista, especialmente uma lista encadeada, poderia ajudar a organizar esses padrões, facilitando a verificação de quais já foram processados.\n",
        "\n",
        "\n",
        "ATIVIDADE 4\n",
        "--------------\n",
        "\n",
        "Fila: A fila permite testar as combinações na ordem correta, processando as tentativas de maneira sequencial.\n",
        "\n",
        "Pilha: A pilha permite armazenar os passos anteriores e voltar rapidamente a um estado anterior, quando necessário.\n",
        "\n",
        "Lista: A lista, especialmente a lista encadeada, ajuda a garantir que padrões já testados não sejam repetidos, aumentando a eficiência do processo.\n",
        "\n",
        "Essas relações entre o filme e as estruturas de dados ajudam a ilustrar como, na prática, problemas complexos de codificação e decodificação podem ser resolvidos de maneira mais eficiente por meio de algoritmos que organizam e manipulam dados de forma inteligente.\n",
        "\n",
        "Essas respostas podem ser usadas para refletir sobre como essas estruturas de dados são essenciais no design de algoritmos, especialmente quando lidam com grandes quantidades de possibilidades e necessitam de métodos para otimizar o processamento de dados.\n",
        "\n",
        "\n",
        "\n"
      ],
      "metadata": {
        "id": "33iHg-_W0jSX"
      }
    },
    {
      "cell_type": "markdown",
      "source": [
        "AULA 15/04\n",
        "\n",
        "REVISÃO: 3 PROBRLEMAS\n",
        "\n",
        "1. FILA\n",
        "2. PILHA\n",
        "3. LISTA\n"
      ],
      "metadata": {
        "id": "JcbN3AH7j7I3"
      }
    },
    {
      "cell_type": "code",
      "source": [
        "#Passo 1: Criando uma lista vazia para armazenar os IDs das naves alienigenas\n",
        "\n",
        "\n",
        "naves_alienigenas = []\n",
        "\n",
        "#Passo 2: Asicionando IDs de naves detectadas\n",
        "\n",
        "\n",
        "naves_alienigenas.append('NaveAlfa-01')\n",
        "naves_alienigenas.append('NaveAlfa-05')\n",
        "naves_alienigenas.append('NaveAlfa-12')\n",
        "\n",
        "#Passo 3: Acessando o ID da primeira nave detectada\n",
        "\n",
        "primeira_nave = naves_alienigenas[0]\n",
        "print(f\"A primeira nave detectada foi: {primeira_nave}\")\n",
        "\n",
        "#Passo 4: Modificando o ID de uma nave(Correção)\n",
        "\n",
        "naves_alienigenas[1] = 'NaveAlfa-06'\n",
        "print(f\"A nova lista de naves alienigenas é: {naves_alienigenas}\")\n",
        "\n",
        "#Passo 5: Removendo uma nave que deixou a órbita\n",
        "\n",
        "naves_alienigenas.remove('NaveAlfa-01')\n",
        "print(f\"A lista atualizada de naves alienigenas é: {naves_alienigenas}\")\n",
        "\n",
        "\n",
        "#Passo 6: Verificando quantas naves ainda estão presentes\n",
        "\n",
        "total_naves = len(naves_alienigenas)\n",
        "print(f\"Ainda existem {total_naves} naves alienigenas na lista.\")\n",
        "\n",
        "#"
      ],
      "metadata": {
        "colab": {
          "base_uri": "https://localhost:8080/"
        },
        "id": "NzdyeNvQkAcQ",
        "outputId": "b87244c4-2c5d-459f-c4fe-42683528043a"
      },
      "execution_count": null,
      "outputs": [
        {
          "output_type": "stream",
          "name": "stdout",
          "text": [
            "A primeira nave detectada foi: NaveAlfa-01\n",
            "A nova lista de naves alienigenas é: ['NaveAlfa-01', 'NaveAlfa-06', 'NaveAlfa-12']\n",
            "A lista atualizada de naves alienigenas é: ['NaveAlfa-06', 'NaveAlfa-12']\n",
            "Ainda existem 2 naves alienigenas na lista.\n"
          ]
        }
      ]
    },
    {
      "cell_type": "code",
      "source": [
        "from collections import deque\n",
        "\n",
        "#Passo 1: Criando uma fila vazia para as tarefas de expedição\n",
        "\n",
        "fila_de_tarefa = deque()\n",
        "\n",
        "#Passo 2: Adicionando tarefa a fila (enqueue)\n",
        "\n",
        "fila_de_tarefa.append('Verificar painéis solares')\n",
        "fila_de_tarefa.append('Realizar experimento de gravidade')\n",
        "fila_de_tarefa.append('Comunicar com a base terrestre')\n",
        "print(f\"Fila de tarefas atualizada: {fila_de_tarefa}\")\n",
        "\n",
        "#Passo 3: Executando uma tarefa da fila (dequeue)\n",
        "\n",
        "proxima_tarefa = fila_de_tarefa.popleft()\n",
        "print(f\"Executando a próxima tarefa: {proxima_tarefa}\")\n",
        "\n",
        "#Passo 4: Verificando o tamanho da fila\n",
        "\n",
        "total_tarefas_restantes = len(fila_de_tarefa)\n",
        "print(f\"Ainda existem {total_tarefas_restantes} tarefas na fila.\")\n",
        "\n",
        "#Passo 5: Verificando se a fila está vazia\n",
        "\n",
        "if not fila_de_tarefa:\n",
        "  print('Todas as tarefas foram concluídas')\n",
        "else:\n",
        "  print('Ainda existem tarefas na fila')"
      ],
      "metadata": {
        "colab": {
          "base_uri": "https://localhost:8080/"
        },
        "id": "nHlohxbctPNY",
        "outputId": "1c771ca9-2491-48a0-d9f5-847af1c6ac17"
      },
      "execution_count": null,
      "outputs": [
        {
          "output_type": "stream",
          "name": "stdout",
          "text": [
            "Fila de tarefas atualizada: deque(['Verificar painéis solares', 'Realizar experimento de gravidade', 'Comunicar com a base terrestre'])\n",
            "Executando a próxima tarefa: Verificar painéis solares\n",
            "Ainda existem 2 tarefas na fila.\n",
            "Ainda existem tarefas na fila\n"
          ]
        }
      ]
    },
    {
      "cell_type": "code",
      "source": [
        "fila_de_atendimento = deque()\n",
        "\n",
        "fila_de_atendimento.append('João')\n",
        "fila_de_atendimento.append('Maria')\n",
        "fila_de_atendimento.append('Pedro')\n",
        "\n",
        "print(f\"Fila de atendimento atualizada: {fila_de_atendimento}\")\n",
        "\n",
        "proximo_alienigena = fila_de_atendimento.popleft()\n",
        "print(f\"Próximo alienigena a ser atendido: {proximo_alienigena}\")\n",
        "print(f\"Fila de atendimento atualizada: {fila_de_atendimento}\")"
      ],
      "metadata": {
        "colab": {
          "base_uri": "https://localhost:8080/"
        },
        "id": "l44uV5kAvKAo",
        "outputId": "b74f5c48-5230-42ea-b4d4-f84978b3a825"
      },
      "execution_count": null,
      "outputs": [
        {
          "output_type": "stream",
          "name": "stdout",
          "text": [
            "Fila de atendimento atualizada: deque(['João', 'Maria', 'Pedro'])\n",
            "Próximo alienigena a ser atendido: João\n",
            "Fila de atendimento atualizada: deque(['Maria', 'Pedro'])\n"
          ]
        }
      ]
    },
    {
      "cell_type": "code",
      "source": [
        "#Passo 1: Criando uma pilha vazia para as amostras coletadas\n",
        "\n",
        "pilha_de_amostra = []\n",
        "\n",
        "#Passo 2: Adicionando amostras a pilha(push)\n",
        "\n",
        "pilha_de_amostra.append('Amostra1')\n",
        "pilha_de_amostra.append('Amostra2')\n",
        "pilha_de_amostra.append('Amostra3')\n",
        "print(f\"Pilha de amostras atualizada: {pilha_de_amostra}\")\n",
        "\n",
        "#Passo 3: analisando a ultima amostra coletada(pop)\n",
        "\n",
        "ultima_amostra = pilha_de_amostra.pop()\n",
        "print(f\"Analisando a última amostra coletada: {ultima_amostra}\")\n",
        "print(f\"Pilha de amostras atualizada: {pilha_de_amostra}\")\n",
        "\n",
        "#Passo 4: Verificando o tamanho da pilha\n",
        "\n",
        "total_amostras = len(pilha_de_amostra)\n",
        "print(f\"Ainda existem {total_amostras} amostras na pilha.\")\n",
        "\n",
        "#Passo 5: Verificando se a pilha esta vazia\n",
        "\n",
        "if not pilha_de_amostra:\n",
        "  print('Todas as amostras foram analisadas')\n",
        "else:\n",
        "  print('Ainda existem amostras na pilha')"
      ],
      "metadata": {
        "colab": {
          "base_uri": "https://localhost:8080/"
        },
        "id": "zjHNixUTw9IJ",
        "outputId": "36ab85c2-1961-4f99-f214-9a93cbbbd464"
      },
      "execution_count": null,
      "outputs": [
        {
          "output_type": "stream",
          "name": "stdout",
          "text": [
            "Pilha de amostras atualizada: ['Amostra1', 'Amostra2', 'Amostra3']\n",
            "Analisando a última amostra coletada: Amostra3\n",
            "Pilha de amostras atualizada: ['Amostra1', 'Amostra2']\n",
            "Ainda existem 2 amostras na pilha.\n",
            "Ainda existem amostras na pilha\n"
          ]
        }
      ]
    },
    {
      "cell_type": "code",
      "source": [
        "reculos_alienigenas = []\n",
        "reculos_alienigenas.append('NaveBeta-01')\n",
        "reculos_alienigenas.append('NaveBeta-02')\n",
        "reculos_alienigenas.append('NaveBeta-03')\n",
        "\n",
        "print(f'Recuos alienigenas detectados: {reculos_alienigenas}')\n",
        "\n",
        "ultima_nave_recuada = reculos_alienigenas.pop()\n",
        "print(f'A última nave recuada foi: {ultima_nave_recuada}')\n",
        "print(f'Recuos alienigenas restantes: {reculos_alienigenas}')\n",
        "\n",
        "if not reculos_alienigenas:\n",
        "  print('Todos os recuos foram recuperados')\n",
        "else:\n",
        "  print('Ainda existem recuos não recuperados')"
      ],
      "metadata": {
        "colab": {
          "base_uri": "https://localhost:8080/"
        },
        "id": "ouyYzw3kyaGp",
        "outputId": "f8d2f7b6-12d2-433d-90fd-5cd6ed8d5a25"
      },
      "execution_count": null,
      "outputs": [
        {
          "output_type": "stream",
          "name": "stdout",
          "text": [
            "Recuos alienigenas detectados: ['NaveBeta-01', 'NaveBeta-02', 'NaveBeta-03']\n",
            "A última nave recuada foi: NaveBeta-03\n",
            "Recuos alienigenas restantes: ['NaveBeta-01', 'NaveBeta-02']\n",
            "Ainda existem recuos não recuperados\n"
          ]
        }
      ]
    },
    {
      "cell_type": "markdown",
      "source": [
        "AULA 22/4\n"
      ],
      "metadata": {
        "id": "bySfQ7zfxyZK"
      }
    },
    {
      "cell_type": "code",
      "source": [
        "catalogo_magico = []\n",
        "\n",
        "def adicionar_livro(catalogo, livro):\n",
        "  catalogo.append(livro)\n",
        "  print(f\"Livro '{livro}' adicionado ao catálogo mágico.\")\n",
        "\n",
        "\n",
        "adicionar_livro(catalogo_magico, 'Harry Potter')\n",
        "adicionar_livro(catalogo_magico, 'O Senhor dos Anéis')\n",
        "\n",
        "print(catalogo_magico)\n",
        "\n",
        "\n",
        "def buscar_livro(catalogo, index):\n",
        "  if index in catalogo:\n",
        "    print(f\"Livro '{index}' encontrado no catálogo mágico.\")\n",
        "  else:\n",
        "    print(f\"Livro não encontrado no catálogo mágico.\")\n",
        "\n",
        "\n",
        "buscar_livro(catalogo_magico, 1)\n",
        "\n"
      ],
      "metadata": {
        "colab": {
          "base_uri": "https://localhost:8080/"
        },
        "id": "yrb6PstQy-86",
        "outputId": "a7d83fe7-c3e8-4a8c-8d5c-dc5c3f1324ec"
      },
      "execution_count": null,
      "outputs": [
        {
          "output_type": "stream",
          "name": "stdout",
          "text": [
            "Livro 'Harry Potter' adicionado ao catálogo mágico.\n",
            "Livro 'O Senhor dos Anéis' adicionado ao catálogo mágico.\n",
            "['Harry Potter', 'O Senhor dos Anéis']\n",
            "Livro não encontrado no catálogo mágico.\n"
          ]
        }
      ]
    },
    {
      "cell_type": "markdown",
      "source": [
        "ATIVIDADES PRATICAS\n"
      ],
      "metadata": {
        "id": "KS5bf8CUssNh"
      }
    },
    {
      "cell_type": "markdown",
      "source": [
        "## Atividade Prática: Explorando Pilhas, Filas e Listas em Mundos Fantásticos\n",
        "\n",
        "**Objetivo:** Consolidar o entendimento e a aplicação de pilhas, filas e listas através de problemas práticos com temas distintos e criativos.\n",
        "\n",
        "**Instruções:** Para cada cenário abaixo, implemente a estrutura de dados solicitada em Python, seguindo os passos indicados e comentando seu código.\n",
        "\n",
        "**Tema 1: A Biblioteca Mágica (Listas)**\n",
        "\n",
        "Em uma biblioteca mágica, os livros não seguem uma ordem alfabética tradicional. Em vez disso, são organizados de acordo com a ordem em que foram devolvidos. A bibliotecária precisa de sua ajuda para gerenciar o catálogo de livros.\n",
        "\n",
        "**Tarefas:**\n",
        "\n",
        "1.  **Criar o Catálogo:** Inicialize uma lista vazia chamada `catalogo_magico`.\n",
        "2.  **Adicionar Livros:** Implemente uma função `adicionar_livro(catalogo, livro)` que adicione o `livro` ao final da lista `catalogo`. Adicione os seguintes livros ao catálogo: \"O Feitiço da Lua Crescente\", \"A Jornada do Unicórnio Perdido\", \"Segredos da Floresta Encantada\".\n",
        "3.  **Visualizar o Catálogo:** Imprima o `catalogo_magico` para verificar a ordem dos livros.\n",
        "4.  **Buscar Livro por Posição:** Implemente uma função `buscar_livro(catalogo, indice)` que retorne o livro presente no `indice` fornecido. Busque o livro na posição 1 (lembre-se que a indexação começa em 0) e imprima o resultado.\n",
        "5.  **Remover Livro:** Um leitor devolveu \"A Jornada do Unicórnio Perdido\" e ele deve ser removido do catálogo. Utilize o método apropriado para remover o livro da lista.\n",
        "6.  **Visualizar Catálogo Atualizado:** Imprima novamente o `catalogo_magico` para ver o catálogo após a remoção.\n",
        "7.  **Verificar Presença:** Implemente uma função `verificar_livro(catalogo, livro)` que retorne `True` se o `livro` estiver no `catalogo` e `False` caso contrário. Verifique se o livro \"Segredos da Floresta Encantada\" ainda está no catálogo."
      ],
      "metadata": {
        "id": "gnp6nFc0swj4"
      }
    },
    {
      "cell_type": "code",
      "source": [
        "# Criar o Catálogo\n",
        "catalogo_magico = []\n",
        "\n",
        "# Função para adicionar livros\n",
        "def adicionar_livro(catalogo, livro):\n",
        "    catalogo.append(livro)\n",
        "\n",
        "# Adicionando livros ao catálogo\n",
        "adicionar_livro(catalogo_magico, \"O Feitiço da Lua Crescente\")\n",
        "adicionar_livro(catalogo_magico, \"A Jornada do Unicórnio Perdido\")\n",
        "adicionar_livro(catalogo_magico, \"Segredos da Floresta Encantada\")\n",
        "\n",
        "# Visualizar o Catálogo\n",
        "print(\"Catálogo Mágico:\", catalogo_magico)\n",
        "\n",
        "# Função para buscar livro por posição\n",
        "def buscar_livro(catalogo, indice):\n",
        "    if 0 <= indice < len(catalogo):\n",
        "        return catalogo[indice]\n",
        "    else:\n",
        "        return \"Índice fora do intervalo\"\n",
        "\n",
        "# Buscar o livro na posição 1\n",
        "livro_na_posicao_1 = buscar_livro(catalogo_magico, 1)\n",
        "print(\"Livro na posição 1:\", livro_na_posicao_1)\n",
        "\n",
        "# Remover o livro \"A Jornada do Unicórnio Perdido\"\n",
        "catalogo_magico.remove(\"A Jornada do Unicórnio Perdido\")\n",
        "\n",
        "# Visualizar Catálogo Atualizado\n",
        "print(\"Catálogo Atualizado:\", catalogo_magico)\n",
        "\n",
        "# Função para verificar presença de um livro\n",
        "def verificar_livro(catalogo, livro):\n",
        "      return livro in catalogo\n",
        "\n",
        "# Verificar se \"Segredos da Floresta Encantada\" está no catálogo\n",
        "presenca = verificar_livro(catalogo_magico, \"Segredos da Floresta Encantada\")\n",
        "print(\"Está no catálogo?\", presenca)\n"
      ],
      "metadata": {
        "colab": {
          "base_uri": "https://localhost:8080/"
        },
        "id": "uYSGQjTMsxq4",
        "outputId": "2e0d0fd3-9c08-435b-b285-4fe93cc9d5fd"
      },
      "execution_count": 2,
      "outputs": [
        {
          "output_type": "stream",
          "name": "stdout",
          "text": [
            "Catálogo Mágico: ['O Feitiço da Lua Crescente', 'A Jornada do Unicórnio Perdido', 'Segredos da Floresta Encantada']\n",
            "Livro na posição 1: A Jornada do Unicórnio Perdido\n",
            "Catálogo Atualizado: ['O Feitiço da Lua Crescente', 'Segredos da Floresta Encantada']\n",
            "Está no catálogo? True\n"
          ]
        }
      ]
    },
    {
      "cell_type": "markdown",
      "source": [
        "**Tema 2: A Fila de Atendimento dos Gnomos Artesãos (Filas)**\n",
        "\n",
        "Em uma oficina de gnomos artesãos, os pedidos de ferramentas mágicas são processados na ordem em que chegam. Ajude o mestre gnome a gerenciar a fila de pedidos.\n",
        "\n",
        "**Tarefas:**\n",
        "\n",
        "1.  **Criar a Fila:** Inicialize uma fila vazia chamada `fila_de_pedidos`. Utilize a estrutura `deque` do módulo `collections`.\n",
        "2.  **Adicionar Pedidos:** Implemente uma função `adicionar_pedido(fila, pedido)` que adicione o `pedido` ao final da `fila`. Adicione os seguintes pedidos: \"Martelo Encantado\", \"Pinça Teleportadora\", \"Chave de Fenda Sônica\".\n",
        "3.  **Visualizar a Fila:** Imprima a `fila_de_pedidos` para verificar a ordem dos pedidos.\n",
        "4.  **Processar Pedido:** Implemente uma função `processar_pedido(fila)` que remova e retorne o primeiro pedido da `fila`. Processe o próximo pedido na fila e imprima qual pedido foi atendido.\n",
        "5.  **Verificar Fila Vazia:** Implemente uma função `fila_vazia(fila)` que retorne `True` se a `fila` estiver vazia e `False` caso contrário. Verifique se a fila ainda possui pedidos após o processamento.\n",
        "6.  **Visualizar Fila Restante:** Imprima a `fila_de_pedidos` novamente para ver os pedidos restantes.\n",
        "7.  **Processar Pedidos Restantes:** Processe os pedidos restantes na fila, um por um, e imprima cada pedido atendido. Verifique se a fila está vazia ao final."
      ],
      "metadata": {
        "id": "vGrM3fdds1C9"
      }
    },
    {
      "cell_type": "code",
      "source": [
        "from collections import deque\n",
        "\n",
        "# Criar a Fila\n",
        "fila_de_pedidos = deque()\n",
        "\n",
        "# Função para adicionar pedidos à fila\n",
        "def adicionar_pedido(fila, pedido):\n",
        "    fila.append(pedido)\n",
        "\n",
        "# Adicionando pedidos à fila\n",
        "adicionar_pedido(fila_de_pedidos, \"Martelo Encantado\")\n",
        "adicionar_pedido(fila_de_pedidos, \"Pinça Teleportadora\")\n",
        "adicionar_pedido(fila_de_pedidos, \"Chave de Fenda Sônica\")\n",
        "\n",
        "# Visualizar a Fila\n",
        "print(\"Fila de Pedidos:\", list(fila_de_pedidos))\n",
        "\n",
        "# Função para processar um pedido\n",
        "def processar_pedido(fila):\n",
        "    if fila:\n",
        "        return fila.popleft()\n",
        "    else:\n",
        "        return \"Fila vazia\"\n",
        "\n",
        "# Processar o próximo pedido\n",
        "pedido_atendido = processar_pedido(fila_de_pedidos)\n",
        "print(\"Pedido Atendido:\", pedido_atendido)\n",
        "\n",
        "# Função para verificar se a fila está vazia\n",
        "def fila_vazia(fila):\n",
        "    return len(fila) == 0\n",
        "\n",
        "# Verificar se a fila ainda possui pedidos\n",
        "print(\"Fila está vazia?\", fila_vazia(fila_de_pedidos))\n",
        "\n",
        "# Visualizar Fila Restante\n",
        "print(\"Fila Restante:\", list(fila_de_pedidos))\n",
        "\n",
        "# Processar Pedidos Restantes\n",
        "while not fila_vazia(fila_de_pedidos):\n",
        "    pedido = processar_pedido(fila_de_pedidos)\n",
        "    print(\"Pedido Atendido:\", pedido)\n",
        "\n",
        "# Verificar novamente se a fila está vazia\n",
        "print(\"Fila está vazia ao final?\", fila_vazia(fila_de_pedidos))\n"
      ],
      "metadata": {
        "id": "KHTSpn53s22p"
      },
      "execution_count": null,
      "outputs": []
    },
    {
      "cell_type": "markdown",
      "source": [
        "**Tema 3: A Torre de Cristais dos Magos do Tempo (Pilhas)**\n",
        "\n",
        "Os magos do tempo armazenam seus poderosos cristais em uma torre, onde o último cristal adicionado é o primeiro a ser utilizado em seus rituais. Ajude a gerenciar a pilha de cristais.\n",
        "\n",
        "**Tarefas:**\n",
        "\n",
        "1.  **Criar a Pilha:** Inicialize uma lista vazia chamada `torre_de_cristais`.\n",
        "2.  **Empilhar Cristal:** Implemente uma função `empilhar_cristal(pilha, cristal)` que adicione o `cristal` ao topo da `pilha`. Adicione os seguintes cristais: \"Cristal do Passado\", \"Cristal do Presente\", \"Cristal do Futuro\".\n",
        "3.  **Visualizar a Pilha:** Imprima a `torre_de_cristais` para verificar a ordem dos cristais (o topo estará no final da lista).\n",
        "4.  **Desempilhar Cristal:** Implemente uma função `desempilhar_cristal(pilha)` que remova e retorne o cristal do topo da `pilha`. Utilize o cristal do topo para um ritual e imprima qual cristal foi utilizado.\n",
        "5.  **Verificar Pilha Vazia:** Implemente uma função `pilha_vazia(pilha)` que retorne `True` se a `pilha` estiver vazia e `False` caso contrário. Verifique se a pilha ainda possui cristais após a utilização.\n",
        "6.  **Visualizar Pilha Restante:** Imprima a `torre_de_cristais` novamente para ver os cristais restantes.\n",
        "7.  **Desempilhar Cristais Restantes:** Utilize os cristais restantes da pilha, um por um, e imprima cada cristal utilizado. Verifique se a pilha está vazia ao final."
      ],
      "metadata": {
        "id": "STb6-1TJs5S4"
      }
    },
    {
      "cell_type": "code",
      "source": [
        "# Criar a Pilha\n",
        "torre_de_cristais = []\n",
        "\n",
        "# Função para empilhar cristais\n",
        "def empilhar_cristal(pilha, cristal):\n",
        "    pilha.append(cristal)\n",
        "\n",
        "# Adicionando cristais à pilha\n",
        "empilhar_cristal(torre_de_cristais, \"Cristal do Passado\")\n",
        "empilhar_cristal(torre_de_cristais, \"Cristal do Presente\")\n",
        "empilhar_cristal(torre_de_cristais, \"Cristal do Futuro\")\n",
        "\n",
        "# Visualizar a Pilha\n",
        "print(\"Torre de Cristais:\", torre_de_cristais)\n",
        "\n",
        "# Função para desempilhar cristal\n",
        "def desempilhar_cristal(pilha):\n",
        "    if pilha:\n",
        "        return pilha.pop()\n",
        "    else:\n",
        "        return \"Pilha vazia\"\n",
        "\n",
        "# Usar o cristal do topo para um ritual\n",
        "cristal_usado = desempilhar_cristal(torre_de_cristais)\n",
        "print(\"Cristal utilizado no ritual:\", cristal_usado)\n",
        "\n",
        "# Função para verificar se a pilha está vazia\n",
        "def pilha_vazia(pilha):\n",
        "    return len(pilha) == 0\n",
        "\n",
        "# Verificar se ainda há cristais\n",
        "print(\"Pilha está vazia?\", pilha_vazia(torre_de_cristais))\n",
        "\n",
        "# Visualizar Pilha Restante\n",
        "print(\"Cristais restantes:\", torre_de_cristais)\n",
        "\n",
        "# Desempilhar Cristais Restantes\n",
        "while not pilha_vazia(torre_de_cristais):\n",
        "    cristal = desempilhar_cristal(torre_de_cristais)\n",
        "    print(\"Cristal utilizado:\", cristal)\n",
        "\n",
        "# Verificar se a pilha está vazia ao final\n",
        "print(\"Pilha está vazia ao final?\", pilha_vazia(torre_de_cristais))\n"
      ],
      "metadata": {
        "id": "anOjTdLzs7YI"
      },
      "execution_count": null,
      "outputs": []
    },
    {
      "cell_type": "code",
      "source": [],
      "metadata": {
        "id": "KsOQJOkWs9VQ"
      },
      "execution_count": null,
      "outputs": []
    }
  ]
}